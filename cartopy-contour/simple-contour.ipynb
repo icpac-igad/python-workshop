{
 "cells": [
  {
   "cell_type": "code",
   "execution_count": null,
   "id": "086ec658-064e-4ddc-8a83-d8d3b5ab03fc",
   "metadata": {},
   "outputs": [],
   "source": [
    "import numpy as np\n",
    "import xarray as xr\n",
    "import matplotlib.pyplot as plt\n",
    "import cartopy.crs as ccrs\n",
    "\n",
    "# Step 1: Create a random xarray dataset\n",
    "lon = np.linspace(-180, 180, 60)\n",
    "lat = np.linspace(-90, 90, 30)\n",
    "slp = 1000 + 10 * np.random.rand(len(lat), len(lon))  # Sea Level Pressure\n",
    "rh = 100 * np.random.rand(len(lat), len(lon))  # Relative Humidity\n",
    "\n",
    "data = xr.Dataset({'slp': (('lat', 'lon'), slp),\n",
    "                   'rh': (('lat', 'lon'), rh)},\n",
    "                  coords={'lon': lon,\n",
    "                          'lat': lat})\n",
    "\n",
    "# Step 2: Plotting\n",
    "plt.figure(figsize=(12, 6))\n",
    "ax = plt.axes(projection=ccrs.PlateCarree())\n",
    "ax.coastlines()\n",
    "\n",
    "# Plot sea level pressure\n",
    "slp_contour = ax.contour(data['lon'], data['lat'], data['slp'], \n",
    "                         colors='black', transform=ccrs.PlateCarree())\n",
    "\n",
    "# Overlay with relative humidity\n",
    "rh_contourf = ax.contourf(data['lon'], data['lat'], data['rh'], \n",
    "                          alpha=0.5, transform=ccrs.PlateCarree())\n",
    "\n",
    "# Add color bar for RH\n",
    "plt.colorbar(rh_contourf, ax=ax, orientation='vertical', shrink=0.5, label='Relative Humidity (%)')\n",
    "\n",
    "# Add labels for SLP\n",
    "plt.clabel(slp_contour, inline=True, fontsize=8)\n",
    "\n",
    "plt.title(\"Sea Level Pressure and Relative Humidity\")\n",
    "plt.show()"
   ]
  },
  {
   "cell_type": "code",
   "execution_count": null,
   "id": "8875463e-956a-4ab4-8eac-eb672fc5e3ff",
   "metadata": {},
   "outputs": [],
   "source": []
  }
 ],
 "metadata": {
  "kernelspec": {
   "display_name": "Python 3 (ipykernel)",
   "language": "python",
   "name": "python3"
  },
  "language_info": {
   "codemirror_mode": {
    "name": "ipython",
    "version": 3
   },
   "file_extension": ".py",
   "mimetype": "text/x-python",
   "name": "python",
   "nbconvert_exporter": "python",
   "pygments_lexer": "ipython3",
   "version": "3.11.5"
  }
 },
 "nbformat": 4,
 "nbformat_minor": 5
}
