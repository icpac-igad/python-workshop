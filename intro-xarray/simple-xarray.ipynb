{
 "cells": [
  {
   "cell_type": "markdown",
   "id": "9b68a638-ef90-4532-b016-7a445b361dc1",
   "metadata": {},
   "source": [
    "## Part 1: Introduction to xarray and Creating a Dataset"
   ]
  },
  {
   "cell_type": "code",
   "execution_count": null,
   "id": "60c64b33-9e65-4bde-873c-fca925679804",
   "metadata": {},
   "outputs": [],
   "source": [
    "# Import necessary libraries\n",
    "import xarray as xr\n",
    "import numpy as np\n",
    "import pandas as pd\n",
    "\n",
    "# Creating a random dataset\n",
    "# Let's assume a dataset of temperature and precipitation for a certain period.\n",
    "\n",
    "time = pd.date_range('2023-01-01', periods=365, freq='D')\n",
    "lat = np.linspace(-90, 90, 180)\n",
    "lon = np.linspace(-180, 180, 360)\n",
    "\n",
    "temperature = 20 + 10 * np.random.rand(len(time), len(lat), len(lon))\n",
    "precipitation = 5 * np.random.rand(len(time), len(lat), len(lon))\n",
    "\n",
    "# Create xarray Dataset\n",
    "data = xr.Dataset({\n",
    "    'temperature': (['time', 'lat', 'lon'], temperature),\n",
    "    'precipitation': (['time', 'lat', 'lon'], precipitation)\n",
    "}, coords={\n",
    "    'time': time,\n",
    "    'lat': lat,\n",
    "    'lon': lon\n",
    "})\n",
    "\n",
    "# Viewing the dataset\n",
    "print(data)"
   ]
  },
  {
   "cell_type": "markdown",
   "id": "ffa02944-182a-4b2d-b0b5-12d51f0f7381",
   "metadata": {},
   "source": [
    "## Part 2: Selecting and Slicing Data"
   ]
  },
  {
   "cell_type": "code",
   "execution_count": null,
   "id": "32dd093b-4953-4f22-9ab5-db5cf9b35b6a",
   "metadata": {},
   "outputs": [],
   "source": [
    "# Selecting data for a specific date\n",
    "specific_date = data.sel(time='2023-01-15')\n",
    "print(specific_date)\n",
    "\n",
    "# Slicing data for a specific month\n",
    "january_data = data.sel(time=slice('2023-01-01', '2023-01-31'))\n",
    "print(january_data)\n",
    "\n",
    "# Selecting a geographical subset\n",
    "specific_region = data.sel(lat=slice(-10, 10), lon=slice(10, 20))\n",
    "print(specific_region)\n"
   ]
  },
  {
   "cell_type": "markdown",
   "id": "73103f5a-68ee-47bb-8cc5-748ae34d2876",
   "metadata": {},
   "source": [
    "## Part 3: Basic Data Operations"
   ]
  },
  {
   "cell_type": "code",
   "execution_count": null,
   "id": "5e6533c6-3a8d-46d8-ad01-c249e133790c",
   "metadata": {},
   "outputs": [],
   "source": [
    "# Calculating mean temperature\n",
    "mean_temp = data['temperature'].mean(dim='time')\n",
    "print(mean_temp)\n",
    "\n",
    "# Finding maximum precipitation\n",
    "max_precip = data['precipitation'].max(dim='time')\n",
    "print(max_precip)"
   ]
  },
  {
   "cell_type": "markdown",
   "id": "9cf0b676-a18a-40f4-bfd2-b7ba01462063",
   "metadata": {},
   "source": [
    "## Part 4: Plotting with xarray"
   ]
  },
  {
   "cell_type": "code",
   "execution_count": null,
   "id": "73eccf2a-bf17-4f6e-a201-5533d09728b9",
   "metadata": {},
   "outputs": [],
   "source": [
    "# Basic plotting\n",
    "import matplotlib.pyplot as plt\n",
    "\n",
    "# Plotting mean temperature\n",
    "mean_temp.plot()\n",
    "plt.title('Mean Temperature')\n",
    "plt.show()\n",
    "\n",
    "# Plotting precipitation on a specific day\n",
    "data['precipitation'].sel(time='2023-01-15').plot()\n",
    "plt.title('Precipitation on 2023-01-15')\n",
    "plt.show()"
   ]
  }
 ],
 "metadata": {
  "kernelspec": {
   "display_name": "Python 3 (ipykernel)",
   "language": "python",
   "name": "python3"
  },
  "language_info": {
   "codemirror_mode": {
    "name": "ipython",
    "version": 3
   },
   "file_extension": ".py",
   "mimetype": "text/x-python",
   "name": "python",
   "nbconvert_exporter": "python",
   "pygments_lexer": "ipython3",
   "version": "3.11.5"
  }
 },
 "nbformat": 4,
 "nbformat_minor": 5
}
