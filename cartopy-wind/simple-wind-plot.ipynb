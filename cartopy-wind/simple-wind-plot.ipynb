{
 "cells": [
  {
   "cell_type": "code",
   "execution_count": null,
   "id": "fdfe6503-b7d6-4483-a58e-f9b5e7f0f438",
   "metadata": {},
   "outputs": [],
   "source": [
    "import numpy as np\n",
    "import xarray as xr\n",
    "import matplotlib.pyplot as plt\n",
    "import cartopy.crs as ccrs\n",
    "\n",
    "# Step 1: Create a random xarray dataset\n",
    "lon = np.linspace(-180, 180, 60)\n",
    "lat = np.linspace(-90, 90, 30)\n",
    "u = 10 * np.random.rand(len(lat), len(lon))\n",
    "v = 10 * np.random.rand(len(lat), len(lon))\n",
    "\n",
    "data = xr.Dataset({'u': (('lat', 'lon'), u),\n",
    "                   'v': (('lat', 'lon'), v)},\n",
    "                  coords={'lon': lon,\n",
    "                          'lat': lat})\n",
    "\n",
    "# Step 2: Calculate wind speed\n",
    "wind_speed = np.sqrt(data['u']**2 + data['v']**2)\n",
    "\n",
    "# Step 3: Plotting\n",
    "plt.figure(figsize=(12, 6))\n",
    "ax = plt.axes(projection=ccrs.PlateCarree())\n",
    "ax.coastlines()\n",
    "\n",
    "# Plot wind vectors\n",
    "plt.quiver(data['lon'], data['lat'], data['u'], data['v'])\n",
    "\n",
    "# Overlay with wind speed\n",
    "plt.contourf(data['lon'], data['lat'], wind_speed, transform=ccrs.PlateCarree(), alpha=0.5)\n",
    "\n",
    "plt.title(\"Wind Vectors and Wind Speed\")\n",
    "plt.show()"
   ]
  },
  {
   "cell_type": "code",
   "execution_count": null,
   "id": "5cb3771a-a6f5-4181-996f-dc471c64e0ef",
   "metadata": {},
   "outputs": [],
   "source": []
  }
 ],
 "metadata": {
  "kernelspec": {
   "display_name": "Python 3 (ipykernel)",
   "language": "python",
   "name": "python3"
  },
  "language_info": {
   "codemirror_mode": {
    "name": "ipython",
    "version": 3
   },
   "file_extension": ".py",
   "mimetype": "text/x-python",
   "name": "python",
   "nbconvert_exporter": "python",
   "pygments_lexer": "ipython3",
   "version": "3.11.5"
  }
 },
 "nbformat": 4,
 "nbformat_minor": 5
}
